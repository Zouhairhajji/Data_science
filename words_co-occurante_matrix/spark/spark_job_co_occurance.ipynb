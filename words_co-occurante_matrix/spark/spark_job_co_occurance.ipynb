{
 "cells": [
  {
   "cell_type": "code",
   "execution_count": 1,
   "metadata": {},
   "outputs": [],
   "source": [
    "import os\n",
    "os.environ[\"SPARK_HOME\"] = \"/Users/zouhairhajji/Documents/dev/spark-2.4.0-bin-hadoop2.7\" "
   ]
  },
  {
   "cell_type": "code",
   "execution_count": 5,
   "metadata": {},
   "outputs": [],
   "source": [
    "from pyspark.sql import SparkSession\n",
    "from pyspark.sql.types import StructType, StructField, LongType, DoubleType\n",
    "import operator\n",
    "\n",
    "import re\n",
    "\n",
    "spark = SparkSession.builder \\\n",
    "        .master('local[*]') \\\n",
    "        .appName('Matrix multiplication') \\\n",
    "        .config(\"spark.driver.memory\", \"2g\") \\\n",
    "        .enableHiveSupport() \\\n",
    "        .getOrCreate()\n"
   ]
  },
  {
   "cell_type": "code",
   "execution_count": 3,
   "metadata": {},
   "outputs": [],
   "source": []
  },
  {
   "cell_type": "markdown",
   "metadata": {},
   "source": [
    "# Spark algorithm"
   ]
  },
  {
   "cell_type": "code",
   "execution_count": 6,
   "metadata": {},
   "outputs": [
    {
     "data": {
      "text/plain": [
       "[('file:/Users/zouhairhajji/Documents/git_projects/Data_science/words_co-occurante_matrix/inputs/file1.demo',\n",
       "  \"je suis Zouhair HAJJI et j'ai 4 ans\\net j'ai mal aux dents\\net j'ai du mal à faire le ramadan,\\nmais je ne peux pas faire le ramadan parce que j'ai trop mal au gents dents\\n\")]"
      ]
     },
     "execution_count": 6,
     "metadata": {},
     "output_type": "execute_result"
    }
   ],
   "source": [
    "file_regex = '../inputs/*.demo'\n",
    "flat_data = spark.sparkContext.wholeTextFiles(file_regex)\n",
    "flat_data.take(1)"
   ]
  },
  {
   "cell_type": "code",
   "execution_count": 5,
   "metadata": {},
   "outputs": [],
   "source": [
    "files = flat_data.map(lambda x: x[0].split('/')[-1]).collect()"
   ]
  },
  {
   "cell_type": "code",
   "execution_count": 10,
   "metadata": {},
   "outputs": [],
   "source": [
    "def filter_appropriate_words(x):\n",
    "    splitet_str = re.split('\\n| |\\'', x)\n",
    "    \n",
    "    splitet_str = list(filter(None, splitet_str))\n",
    "    splitet_str = list(filter(lambda x: False if len(x) < 3 else True, splitet_str))\n",
    "    \n",
    "    return splitet_str\n",
    "\n",
    "formated_input = flat_data    \\\n",
    "    .map(lambda x: (x[0].split('/')[-1],  filter_appropriate_words(x[1])    ))    \\\n",
    "    .flatMap(lambda x: [ (x[0], word) for word in x[1]]  )\n",
    "\n",
    "\n",
    "result = formated_input     \\\n",
    "    .cartesian(formated_input)   \\\n",
    "    .filter(lambda x: x[0][0] == x[1][0])  \\\n",
    "    .filter(lambda x: x[0][1] != x[1][1])  \\\n",
    "    .map(lambda x:  ( (x[0][0], x[0][1], x[1][1]), 1)    ) \\\n",
    "    .reduceByKey(lambda x, y: x+y)   \\\n",
    "    .map(lambda x: (x[0][0], (x[0][1], x[0][2]), x[1]-1))  "
   ]
  },
  {
   "cell_type": "code",
   "execution_count": 14,
   "metadata": {},
   "outputs": [],
   "source": [
    "result.saveAsTextFile('output_spark')"
   ]
  },
  {
   "cell_type": "code",
   "execution_count": null,
   "metadata": {},
   "outputs": [],
   "source": []
  },
  {
   "cell_type": "code",
   "execution_count": null,
   "metadata": {},
   "outputs": [],
   "source": []
  },
  {
   "cell_type": "code",
   "execution_count": null,
   "metadata": {},
   "outputs": [],
   "source": []
  },
  {
   "cell_type": "code",
   "execution_count": null,
   "metadata": {},
   "outputs": [],
   "source": []
  },
  {
   "cell_type": "code",
   "execution_count": null,
   "metadata": {},
   "outputs": [],
   "source": []
  },
  {
   "cell_type": "code",
   "execution_count": null,
   "metadata": {},
   "outputs": [],
   "source": []
  },
  {
   "cell_type": "code",
   "execution_count": null,
   "metadata": {},
   "outputs": [],
   "source": []
  },
  {
   "cell_type": "code",
   "execution_count": null,
   "metadata": {},
   "outputs": [],
   "source": []
  },
  {
   "cell_type": "code",
   "execution_count": null,
   "metadata": {},
   "outputs": [],
   "source": []
  },
  {
   "cell_type": "code",
   "execution_count": null,
   "metadata": {},
   "outputs": [],
   "source": []
  },
  {
   "cell_type": "code",
   "execution_count": 2,
   "metadata": {},
   "outputs": [],
   "source": [
    "sc = spark.sparkContext"
   ]
  },
  {
   "cell_type": "code",
   "execution_count": 49,
   "metadata": {},
   "outputs": [
    {
     "name": "stdout",
     "output_type": "stream",
     "text": [
      "[('a', 1), ('a', 5), ('b', 2), ('a', 8)]\n",
      "[(1, 1), (2, 1)]\n"
     ]
    }
   ],
   "source": [
    "pairs = sc.parallelize([(\"a\", 1), (\"a\", 5), (\"b\", 2), (\"a\", 8)]) \n",
    "pairs.reduceByKey(lambda x, y: y+1).collect()\n",
    "\n",
    "\n",
    "\n",
    "def T(x):\n",
    "    if x < 4:\n",
    "        return [x]\n",
    "    else :\n",
    "        return []\n",
    "\n",
    "\n",
    "dpairs = pairs.flatMap(lambda x: T(x[1])).map(lambda x: (x ,1))\n",
    "\n",
    "print( pairs.collect() )\n",
    "print( dpairs.collect() )"
   ]
  },
  {
   "cell_type": "code",
   "execution_count": null,
   "metadata": {},
   "outputs": [],
   "source": []
  },
  {
   "cell_type": "code",
   "execution_count": 3,
   "metadata": {},
   "outputs": [
    {
     "name": "stdout",
     "output_type": "stream",
     "text": [
      "A x A = 0\n",
      "A x B = 2\n",
      "A x C = 1\n",
      "A x D = 1\n",
      "B x A = 2\n",
      "B x B = 0\n",
      "B x C = 2\n",
      "B x D = 1\n",
      "C x A = 1\n",
      "C x B = 2\n",
      "C x C = 0\n",
      "C x D = 1\n",
      "D x A = 1\n",
      "D x B = 1\n",
      "D x C = 1\n",
      "D x D = 0\n"
     ]
    }
   ],
   "source": [
    "names = ['A', 'B', 'C', 'D']\n",
    "document =[['A', 'B'], ['C', 'B', 'K'],['A', 'B', 'C', 'D', 'Z']]\n",
    "\n",
    "for a in names:\n",
    "    for b in names:\n",
    "        count = 0\n",
    "\n",
    "        for x in document:\n",
    "            if a != b:\n",
    "                if a in x and b in x:\n",
    "                    count += 1\n",
    "\n",
    "            else:\n",
    "                n = x.count(a)\n",
    "                if n >= 2:\n",
    "                    count += math.factorial(n)/math.factorial(n - 2)/2\n",
    "\n",
    "        print ('{} x {} = {}'.format(a, b, count) )"
   ]
  },
  {
   "cell_type": "code",
   "execution_count": null,
   "metadata": {},
   "outputs": [],
   "source": []
  }
 ],
 "metadata": {
  "kernelspec": {
   "display_name": "Python 3",
   "language": "python",
   "name": "python3"
  },
  "language_info": {
   "codemirror_mode": {
    "name": "ipython",
    "version": 3
   },
   "file_extension": ".py",
   "mimetype": "text/x-python",
   "name": "python",
   "nbconvert_exporter": "python",
   "pygments_lexer": "ipython3",
   "version": "3.7.2"
  }
 },
 "nbformat": 4,
 "nbformat_minor": 2
}
